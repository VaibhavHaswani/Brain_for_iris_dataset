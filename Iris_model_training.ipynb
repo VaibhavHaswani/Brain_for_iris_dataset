{
 "cells": [
  {
   "cell_type": "code",
   "execution_count": 2,
   "metadata": {},
   "outputs": [],
   "source": [
    "'''Loading Data'''\n",
    "from sklearn.datasets import load_iris\n",
    "iris=load_iris()"
   ]
  },
  {
   "cell_type": "code",
   "execution_count": 12,
   "metadata": {},
   "outputs": [],
   "source": [
    "x=iris.data   #each list represents some parameters of image or feature values\n",
    "y=iris.target #target data values (there are 3 types of irises and each of the type is represented by 0,1,or 2)"
   ]
  },
  {
   "cell_type": "code",
   "execution_count": 13,
   "metadata": {},
   "outputs": [],
   "source": [
    "features=iris.feature_names   #column names of features of the data x\n",
    "targets=iris.target_names    #column names of the target columns y"
   ]
  },
  {
   "cell_type": "code",
   "execution_count": 44,
   "metadata": {},
   "outputs": [],
   "source": [
    "'''Splitting into Train and Test'''\n",
    "\n",
    "from sklearn.model_selection import train_test_split\n",
    "x_train,x_test,y_train,y_test=train_test_split(x,y,test_size=0.4)"
   ]
  },
  {
   "cell_type": "code",
   "execution_count": 45,
   "metadata": {},
   "outputs": [
    {
     "data": {
      "text/plain": [
       "(90, 4)"
      ]
     },
     "execution_count": 45,
     "metadata": {},
     "output_type": "execute_result"
    }
   ],
   "source": [
    "x_train.shape"
   ]
  },
  {
   "cell_type": "code",
   "execution_count": 47,
   "metadata": {},
   "outputs": [
    {
     "data": {
      "text/plain": [
       "KNeighborsClassifier(algorithm='auto', leaf_size=30, metric='minkowski',\n",
       "                     metric_params=None, n_jobs=None, n_neighbors=3, p=2,\n",
       "                     weights='uniform')"
      ]
     },
     "execution_count": 47,
     "metadata": {},
     "output_type": "execute_result"
    }
   ],
   "source": [
    "'''Model Selection'''\n",
    "\n",
    "from sklearn.neighbors import KNeighborsClassifier    #using knearestneighbor model\n",
    "knn=KNeighborsClassifier(n_neighbors=3)               #setting no. of neighbors =3 as we have 3 no. of target\n",
    "knn.fit(x_train,y_train)                              #training model"
   ]
  },
  {
   "cell_type": "code",
   "execution_count": 51,
   "metadata": {},
   "outputs": [
    {
     "name": "stdout",
     "output_type": "stream",
     "text": [
      "0.9833333333333333\n"
     ]
    }
   ],
   "source": [
    "'''Testing Model'''\n",
    "\n",
    "from sklearn import metrics\n",
    "\n",
    "y_out=knn.predict(x_test)                           #getting prediction from our test data\n",
    "print(metrics.accuracy_score(y_test,y_out))         #matching our predicted data and y of test data"
   ]
  },
  {
   "cell_type": "code",
   "execution_count": 59,
   "metadata": {},
   "outputs": [
    {
     "name": "stdout",
     "output_type": "stream",
     "text": [
      "['setosa', 'versicolor', 'virginica', 'setosa']\n"
     ]
    }
   ],
   "source": [
    "'''Testing sample data'''\n",
    "sample=[[5.1, 3.5, 1.4, 0.2], \n",
    "         [ 6.5,2.8,4.6,1.5 ],\n",
    "        [ 6.5, 3.0, 5.8, 2.2],\n",
    "        [4.6, 3.1, 1.5, 0.2]]                       #creating a sample\n",
    "pred=knn.predict(sample)                            #predicting from model\n",
    "pred_names=[targets[p] for p in pred]               #getting the taget name by giving target values to them\n",
    "print(pred_names)"
   ]
  },
  {
   "cell_type": "code",
   "execution_count": 62,
   "metadata": {},
   "outputs": [
    {
     "data": {
      "text/plain": [
       "['brains/iris_model.joblib']"
      ]
     },
     "execution_count": 62,
     "metadata": {},
     "output_type": "execute_result"
    }
   ],
   "source": [
    "'''Saving model'''\n",
    "\n",
    "from sklearn.externals import joblib                 \n",
    "joblib.dump(knn,'brains/iris_model.joblib') "
   ]
  },
  {
   "cell_type": "code",
   "execution_count": 64,
   "metadata": {},
   "outputs": [
    {
     "data": {
      "text/plain": [
       "array([2, 0, 2, 1, 2, 0, 2, 0, 2, 0, 0, 1, 2, 1, 1, 2, 2, 2, 2, 1, 1, 1,\n",
       "       2, 1, 1, 0, 1, 2, 2, 1, 0, 1, 1, 0, 1, 2, 0, 1, 2, 1, 2, 1, 0, 0,\n",
       "       1, 2, 0, 1, 0, 2, 0, 0, 2, 1, 1, 2, 1, 2, 0, 2])"
      ]
     },
     "execution_count": 64,
     "metadata": {},
     "output_type": "execute_result"
    }
   ],
   "source": [
    "'''Loading saved model'''\n",
    "\n",
    "model=joblib.load('brains/iris_model.joblib')\n",
    "model.predict(x_test)"
   ]
  },
  {
   "cell_type": "code",
   "execution_count": null,
   "metadata": {},
   "outputs": [],
   "source": []
  }
 ],
 "metadata": {
  "kernelspec": {
   "display_name": "Python 3",
   "language": "python",
   "name": "python3"
  },
  "language_info": {
   "codemirror_mode": {
    "name": "ipython",
    "version": 3
   },
   "file_extension": ".py",
   "mimetype": "text/x-python",
   "name": "python",
   "nbconvert_exporter": "python",
   "pygments_lexer": "ipython3",
   "version": "3.8.1"
  }
 },
 "nbformat": 4,
 "nbformat_minor": 4
}
